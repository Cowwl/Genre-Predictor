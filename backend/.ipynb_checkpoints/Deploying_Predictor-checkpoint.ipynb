{
 "cells": [
  {
   "cell_type": "code",
   "execution_count": 1,
   "metadata": {
    "id": "PmVQNcQmxvjC"
   },
   "outputs": [
    {
     "name": "stderr",
     "output_type": "stream",
     "text": [
      "D:\\Leak-Detection\\Genre-Predictor\\backend\\.virtenv\\lib\\site-packages\\torchaudio\\extension\\extension.py:13: UserWarning: torchaudio C++ extension is not available.\n",
      "  warnings.warn('torchaudio C++ extension is not available.')\n",
      "D:\\Leak-Detection\\Genre-Predictor\\backend\\.virtenv\\lib\\site-packages\\torchaudio\\backend\\utils.py:47: UserWarning: \"torchaudio.USE_SOUNDFILE_LEGACY_INTERFACE\" flag is deprecated and will be removed in 0.9.0. Please remove the use of flag.\n",
      "  '\"torchaudio.USE_SOUNDFILE_LEGACY_INTERFACE\" flag is deprecated and will be removed in 0.9.0. '\n"
     ]
    }
   ],
   "source": [
    "from fastai.vision.all import *\n",
    "from fastaudio.core.all import *\n",
    "from fastaudio.augment.all import *\n",
    "from fastaudio.ci import skip_if_ci\n",
    "import timm\n",
    "from torch.distributions.beta import Beta\n",
    "from fastapi import FastAPI, File, UploadFile\n",
    "from pydantic import BaseModel\n",
    "from loguru import logger\n",
    "from fastapi.middleware.cors import CORSMiddleware\n",
    "import json"
   ]
  },
  {
   "cell_type": "code",
   "execution_count": 2,
   "metadata": {},
   "outputs": [],
   "source": [
    "import pathlib\n",
    "temp = pathlib.PosixPath\n",
    "pathlib.PosixPath = pathlib.WindowsPath"
   ]
  },
  {
   "cell_type": "code",
   "execution_count": 3,
   "metadata": {
    "id": "wuI95GINy9Xq"
   },
   "outputs": [],
   "source": [
    "class AudioNormalize(Transform):\n",
    "    \"Normalizes a single `AudioTensor`.\"\n",
    "    def encodes(self, x:AudioTensor): return (x-x.mean()) / x.std()"
   ]
  },
  {
   "cell_type": "code",
   "execution_count": 4,
   "metadata": {
    "id": "-CzN4gYqzKJ2"
   },
   "outputs": [],
   "source": [
    "def get_x(r): \n",
    "  return path/'genres_original'/r['filename'].split('.')[0]/str(r['filename'])"
   ]
  },
  {
   "cell_type": "code",
   "execution_count": 10,
   "metadata": {
    "id": "kU8JTuHLD2tv"
   },
   "outputs": [],
   "source": [
    "app = FastAPI()\n",
    "origins = [\n",
    "    \"http://localhost.tiangolo.com\",\n",
    "    \"https://localhost.tiangolo.com\",\n",
    "    \"http://localhost\",\n",
    "    \"http://localhost:3000\"\n",
    "]\n",
    "\n",
    "app.add_middleware(\n",
    "    CORSMiddleware,\n",
    "    allow_origins=origins,\n",
    "    allow_credentials=True,\n",
    "    allow_methods=[\"*\"],\n",
    "    allow_headers=[\"*\"],\n",
    ")\n",
    "\n",
    "@app.on_event(\"startup\")\n",
    "def load_model():\n",
    "    global model\n",
    "    model = load_learner(Path('D:/Academics/ML Stuff/Genre Predictor/export_r18.pkl'))\n",
    "    return {'message': 'Loaded!'}\n",
    "@app.get('/')\n",
    "def index():\n",
    "    return {'message': 'This is the homepage of the API '}\n",
    "@app.post('/predict')\n",
    "async def get_music_category(file: Union[UploadFile, None] = None):\n",
    "#     if not file:\n",
    "#         return {\"message\": \"No upload file sent\"}\n",
    "#     else:\n",
    "#         return {\"filename\": file.filename}\n",
    "    contents = await file.read()\n",
    "    file = open('demo.wav', 'wb')\n",
    "    file.write(contents)\n",
    "    file.close()\n",
    "    ResultsArr = []\n",
    "    audio = AudioTensor.create(Path('demo.wav'))\n",
    "    pred,pred_idx,probs = model.predict(audio)\n",
    "    sorted, indices = torch.sort(probs, descending = True)\n",
    "    for i in range(0,5):\n",
    "        Prediction = model.dls.vocab[indices[i]]\n",
    "        prob = float(sorted[i])\n",
    "        results = {\n",
    "        \"Prediction\" : Prediction,\n",
    "        \"Probability\" : prob\n",
    "        }\n",
    "        ResultsArr.append(results)\n",
    "    return json.dumps(ResultsArr)"
   ]
  },
  {
   "cell_type": "code",
   "execution_count": null,
   "metadata": {},
   "outputs": [],
   "source": [
    "from pyngrok import ngrok\n",
    "\n",
    "ngrok_tunnel = ngrok.connect(8000)\n",
    "\n",
    "ngrok_tunnel"
   ]
  },
  {
   "cell_type": "code",
   "execution_count": null,
   "metadata": {
    "scrolled": false
   },
   "outputs": [
    {
     "name": "stderr",
     "output_type": "stream",
     "text": [
      "INFO:     Started server process [13004]\n",
      "INFO:     Waiting for application startup.\n",
      "INFO:     Application startup complete.\n",
      "INFO:     Uvicorn running on http://127.0.0.1:8000 (Press CTRL+C to quit)\n"
     ]
    },
    {
     "data": {
      "text/html": [
       "\n",
       "<style>\n",
       "    /* Turns off some styling */\n",
       "    progress {\n",
       "        /* gets rid of default border in Firefox and Opera. */\n",
       "        border: none;\n",
       "        /* Needs to be in here for Safari polyfill so background images work as expected. */\n",
       "        background-size: auto;\n",
       "    }\n",
       "    progress:not([value]), progress:not([value])::-webkit-progress-bar {\n",
       "        background: repeating-linear-gradient(45deg, #7e7e7e, #7e7e7e 10px, #5c5c5c 10px, #5c5c5c 20px);\n",
       "    }\n",
       "    .progress-bar-interrupted, .progress-bar-interrupted::-webkit-progress-bar {\n",
       "        background: #F44336;\n",
       "    }\n",
       "</style>\n"
      ],
      "text/plain": [
       "<IPython.core.display.HTML object>"
      ]
     },
     "metadata": {},
     "output_type": "display_data"
    },
    {
     "data": {
      "text/html": [],
      "text/plain": [
       "<IPython.core.display.HTML object>"
      ]
     },
     "metadata": {},
     "output_type": "display_data"
    },
    {
     "name": "stdout",
     "output_type": "stream",
     "text": [
      "INFO:     127.0.0.1:63076 - \"POST /predict HTTP/1.1\" 200 OK\n",
      "INFO:     127.0.0.1:63077 - \"OPTIONS /predict HTTP/1.1\" 200 OK\n",
      "INFO:     127.0.0.1:63077 - \"POST /predict HTTP/1.1\" 500 Internal Server Error\n"
     ]
    },
    {
     "name": "stderr",
     "output_type": "stream",
     "text": [
      "ERROR:    Exception in ASGI application\n",
      "Traceback (most recent call last):\n",
      "  File \"D:\\Leak-Detection\\Genre-Predictor\\backend\\.virtenv\\lib\\site-packages\\uvicorn\\protocols\\http\\h11_impl.py\", line 394, in run_asgi\n",
      "    result = await app(self.scope, self.receive, self.send)\n",
      "  File \"D:\\Leak-Detection\\Genre-Predictor\\backend\\.virtenv\\lib\\site-packages\\uvicorn\\middleware\\proxy_headers.py\", line 45, in __call__\n",
      "    return await self.app(scope, receive, send)\n",
      "  File \"D:\\Leak-Detection\\Genre-Predictor\\backend\\.virtenv\\lib\\site-packages\\fastapi\\applications.py\", line 270, in __call__\n",
      "    await super().__call__(scope, receive, send)\n",
      "  File \"D:\\Leak-Detection\\Genre-Predictor\\backend\\.virtenv\\lib\\site-packages\\starlette\\applications.py\", line 124, in __call__\n",
      "    await self.middleware_stack(scope, receive, send)\n",
      "  File \"D:\\Leak-Detection\\Genre-Predictor\\backend\\.virtenv\\lib\\site-packages\\starlette\\middleware\\errors.py\", line 184, in __call__\n",
      "    raise exc\n",
      "  File \"D:\\Leak-Detection\\Genre-Predictor\\backend\\.virtenv\\lib\\site-packages\\starlette\\middleware\\errors.py\", line 162, in __call__\n",
      "    await self.app(scope, receive, _send)\n",
      "  File \"D:\\Leak-Detection\\Genre-Predictor\\backend\\.virtenv\\lib\\site-packages\\starlette\\middleware\\cors.py\", line 92, in __call__\n",
      "    await self.simple_response(scope, receive, send, request_headers=headers)\n",
      "  File \"D:\\Leak-Detection\\Genre-Predictor\\backend\\.virtenv\\lib\\site-packages\\starlette\\middleware\\cors.py\", line 147, in simple_response\n",
      "    await self.app(scope, receive, send)\n",
      "  File \"D:\\Leak-Detection\\Genre-Predictor\\backend\\.virtenv\\lib\\site-packages\\starlette\\middleware\\exceptions.py\", line 75, in __call__\n",
      "    raise exc\n",
      "  File \"D:\\Leak-Detection\\Genre-Predictor\\backend\\.virtenv\\lib\\site-packages\\starlette\\middleware\\exceptions.py\", line 64, in __call__\n",
      "    await self.app(scope, receive, sender)\n",
      "  File \"D:\\Leak-Detection\\Genre-Predictor\\backend\\.virtenv\\lib\\site-packages\\fastapi\\middleware\\asyncexitstack.py\", line 21, in __call__\n",
      "    raise e\n",
      "  File \"D:\\Leak-Detection\\Genre-Predictor\\backend\\.virtenv\\lib\\site-packages\\fastapi\\middleware\\asyncexitstack.py\", line 18, in __call__\n",
      "    await self.app(scope, receive, send)\n",
      "  File \"D:\\Leak-Detection\\Genre-Predictor\\backend\\.virtenv\\lib\\site-packages\\starlette\\routing.py\", line 680, in __call__\n",
      "    await route.handle(scope, receive, send)\n",
      "  File \"D:\\Leak-Detection\\Genre-Predictor\\backend\\.virtenv\\lib\\site-packages\\starlette\\routing.py\", line 275, in handle\n",
      "    await self.app(scope, receive, send)\n",
      "  File \"D:\\Leak-Detection\\Genre-Predictor\\backend\\.virtenv\\lib\\site-packages\\starlette\\routing.py\", line 65, in app\n",
      "    response = await func(request)\n",
      "  File \"D:\\Leak-Detection\\Genre-Predictor\\backend\\.virtenv\\lib\\site-packages\\fastapi\\routing.py\", line 232, in app\n",
      "    dependant=dependant, values=values, is_coroutine=is_coroutine\n",
      "  File \"D:\\Leak-Detection\\Genre-Predictor\\backend\\.virtenv\\lib\\site-packages\\fastapi\\routing.py\", line 160, in run_endpoint_function\n",
      "    return await dependant.call(**values)\n",
      "  File \"C:\\Users\\anubh\\AppData\\Local\\Temp\\ipykernel_13004\\2407558979.py\", line 31, in get_music_category\n",
      "    contents = await file.read()\n",
      "AttributeError: 'NoneType' object has no attribute 'read'\n"
     ]
    },
    {
     "name": "stdout",
     "output_type": "stream",
     "text": [
      "INFO:     127.0.0.1:63112 - \"POST /predict HTTP/1.1\" 500 Internal Server Error\n"
     ]
    },
    {
     "name": "stderr",
     "output_type": "stream",
     "text": [
      "ERROR:    Exception in ASGI application\n",
      "Traceback (most recent call last):\n",
      "  File \"D:\\Leak-Detection\\Genre-Predictor\\backend\\.virtenv\\lib\\site-packages\\uvicorn\\protocols\\http\\h11_impl.py\", line 394, in run_asgi\n",
      "    result = await app(self.scope, self.receive, self.send)\n",
      "  File \"D:\\Leak-Detection\\Genre-Predictor\\backend\\.virtenv\\lib\\site-packages\\uvicorn\\middleware\\proxy_headers.py\", line 45, in __call__\n",
      "    return await self.app(scope, receive, send)\n",
      "  File \"D:\\Leak-Detection\\Genre-Predictor\\backend\\.virtenv\\lib\\site-packages\\fastapi\\applications.py\", line 270, in __call__\n",
      "    await super().__call__(scope, receive, send)\n",
      "  File \"D:\\Leak-Detection\\Genre-Predictor\\backend\\.virtenv\\lib\\site-packages\\starlette\\applications.py\", line 124, in __call__\n",
      "    await self.middleware_stack(scope, receive, send)\n",
      "  File \"D:\\Leak-Detection\\Genre-Predictor\\backend\\.virtenv\\lib\\site-packages\\starlette\\middleware\\errors.py\", line 184, in __call__\n",
      "    raise exc\n",
      "  File \"D:\\Leak-Detection\\Genre-Predictor\\backend\\.virtenv\\lib\\site-packages\\starlette\\middleware\\errors.py\", line 162, in __call__\n",
      "    await self.app(scope, receive, _send)\n",
      "  File \"D:\\Leak-Detection\\Genre-Predictor\\backend\\.virtenv\\lib\\site-packages\\starlette\\middleware\\cors.py\", line 92, in __call__\n",
      "    await self.simple_response(scope, receive, send, request_headers=headers)\n",
      "  File \"D:\\Leak-Detection\\Genre-Predictor\\backend\\.virtenv\\lib\\site-packages\\starlette\\middleware\\cors.py\", line 147, in simple_response\n",
      "    await self.app(scope, receive, send)\n",
      "  File \"D:\\Leak-Detection\\Genre-Predictor\\backend\\.virtenv\\lib\\site-packages\\starlette\\middleware\\exceptions.py\", line 75, in __call__\n",
      "    raise exc\n",
      "  File \"D:\\Leak-Detection\\Genre-Predictor\\backend\\.virtenv\\lib\\site-packages\\starlette\\middleware\\exceptions.py\", line 64, in __call__\n",
      "    await self.app(scope, receive, sender)\n",
      "  File \"D:\\Leak-Detection\\Genre-Predictor\\backend\\.virtenv\\lib\\site-packages\\fastapi\\middleware\\asyncexitstack.py\", line 21, in __call__\n",
      "    raise e\n",
      "  File \"D:\\Leak-Detection\\Genre-Predictor\\backend\\.virtenv\\lib\\site-packages\\fastapi\\middleware\\asyncexitstack.py\", line 18, in __call__\n",
      "    await self.app(scope, receive, send)\n",
      "  File \"D:\\Leak-Detection\\Genre-Predictor\\backend\\.virtenv\\lib\\site-packages\\starlette\\routing.py\", line 680, in __call__\n",
      "    await route.handle(scope, receive, send)\n",
      "  File \"D:\\Leak-Detection\\Genre-Predictor\\backend\\.virtenv\\lib\\site-packages\\starlette\\routing.py\", line 275, in handle\n",
      "    await self.app(scope, receive, send)\n",
      "  File \"D:\\Leak-Detection\\Genre-Predictor\\backend\\.virtenv\\lib\\site-packages\\starlette\\routing.py\", line 65, in app\n",
      "    response = await func(request)\n",
      "  File \"D:\\Leak-Detection\\Genre-Predictor\\backend\\.virtenv\\lib\\site-packages\\fastapi\\routing.py\", line 232, in app\n",
      "    dependant=dependant, values=values, is_coroutine=is_coroutine\n",
      "  File \"D:\\Leak-Detection\\Genre-Predictor\\backend\\.virtenv\\lib\\site-packages\\fastapi\\routing.py\", line 160, in run_endpoint_function\n",
      "    return await dependant.call(**values)\n",
      "  File \"C:\\Users\\anubh\\AppData\\Local\\Temp\\ipykernel_13004\\2407558979.py\", line 31, in get_music_category\n",
      "    contents = await file.read()\n",
      "AttributeError: 'NoneType' object has no attribute 'read'\n"
     ]
    },
    {
     "name": "stdout",
     "output_type": "stream",
     "text": [
      "INFO:     127.0.0.1:63113 - \"POST /predict HTTP/1.1\" 500 Internal Server Error\n"
     ]
    },
    {
     "name": "stderr",
     "output_type": "stream",
     "text": [
      "ERROR:    Exception in ASGI application\n",
      "Traceback (most recent call last):\n",
      "  File \"D:\\Leak-Detection\\Genre-Predictor\\backend\\.virtenv\\lib\\site-packages\\uvicorn\\protocols\\http\\h11_impl.py\", line 394, in run_asgi\n",
      "    result = await app(self.scope, self.receive, self.send)\n",
      "  File \"D:\\Leak-Detection\\Genre-Predictor\\backend\\.virtenv\\lib\\site-packages\\uvicorn\\middleware\\proxy_headers.py\", line 45, in __call__\n",
      "    return await self.app(scope, receive, send)\n",
      "  File \"D:\\Leak-Detection\\Genre-Predictor\\backend\\.virtenv\\lib\\site-packages\\fastapi\\applications.py\", line 270, in __call__\n",
      "    await super().__call__(scope, receive, send)\n",
      "  File \"D:\\Leak-Detection\\Genre-Predictor\\backend\\.virtenv\\lib\\site-packages\\starlette\\applications.py\", line 124, in __call__\n",
      "    await self.middleware_stack(scope, receive, send)\n",
      "  File \"D:\\Leak-Detection\\Genre-Predictor\\backend\\.virtenv\\lib\\site-packages\\starlette\\middleware\\errors.py\", line 184, in __call__\n",
      "    raise exc\n",
      "  File \"D:\\Leak-Detection\\Genre-Predictor\\backend\\.virtenv\\lib\\site-packages\\starlette\\middleware\\errors.py\", line 162, in __call__\n",
      "    await self.app(scope, receive, _send)\n",
      "  File \"D:\\Leak-Detection\\Genre-Predictor\\backend\\.virtenv\\lib\\site-packages\\starlette\\middleware\\cors.py\", line 92, in __call__\n",
      "    await self.simple_response(scope, receive, send, request_headers=headers)\n",
      "  File \"D:\\Leak-Detection\\Genre-Predictor\\backend\\.virtenv\\lib\\site-packages\\starlette\\middleware\\cors.py\", line 147, in simple_response\n",
      "    await self.app(scope, receive, send)\n",
      "  File \"D:\\Leak-Detection\\Genre-Predictor\\backend\\.virtenv\\lib\\site-packages\\starlette\\middleware\\exceptions.py\", line 75, in __call__\n",
      "    raise exc\n",
      "  File \"D:\\Leak-Detection\\Genre-Predictor\\backend\\.virtenv\\lib\\site-packages\\starlette\\middleware\\exceptions.py\", line 64, in __call__\n",
      "    await self.app(scope, receive, sender)\n",
      "  File \"D:\\Leak-Detection\\Genre-Predictor\\backend\\.virtenv\\lib\\site-packages\\fastapi\\middleware\\asyncexitstack.py\", line 21, in __call__\n",
      "    raise e\n",
      "  File \"D:\\Leak-Detection\\Genre-Predictor\\backend\\.virtenv\\lib\\site-packages\\fastapi\\middleware\\asyncexitstack.py\", line 18, in __call__\n",
      "    await self.app(scope, receive, send)\n",
      "  File \"D:\\Leak-Detection\\Genre-Predictor\\backend\\.virtenv\\lib\\site-packages\\starlette\\routing.py\", line 680, in __call__\n",
      "    await route.handle(scope, receive, send)\n",
      "  File \"D:\\Leak-Detection\\Genre-Predictor\\backend\\.virtenv\\lib\\site-packages\\starlette\\routing.py\", line 275, in handle\n",
      "    await self.app(scope, receive, send)\n",
      "  File \"D:\\Leak-Detection\\Genre-Predictor\\backend\\.virtenv\\lib\\site-packages\\starlette\\routing.py\", line 65, in app\n",
      "    response = await func(request)\n",
      "  File \"D:\\Leak-Detection\\Genre-Predictor\\backend\\.virtenv\\lib\\site-packages\\fastapi\\routing.py\", line 232, in app\n",
      "    dependant=dependant, values=values, is_coroutine=is_coroutine\n",
      "  File \"D:\\Leak-Detection\\Genre-Predictor\\backend\\.virtenv\\lib\\site-packages\\fastapi\\routing.py\", line 160, in run_endpoint_function\n",
      "    return await dependant.call(**values)\n",
      "  File \"C:\\Users\\anubh\\AppData\\Local\\Temp\\ipykernel_13004\\2407558979.py\", line 31, in get_music_category\n",
      "    contents = await file.read()\n",
      "AttributeError: 'NoneType' object has no attribute 'read'\n"
     ]
    }
   ],
   "source": [
    "import nest_asyncio\n",
    "import uvicorn\n",
    "\n",
    "nest_asyncio.apply()\n",
    "uvicorn.run(app, port=8000)"
   ]
  },
  {
   "cell_type": "code",
   "execution_count": null,
   "metadata": {},
   "outputs": [],
   "source": []
  }
 ],
 "metadata": {
  "colab": {
   "provenance": []
  },
  "kernelspec": {
   "display_name": "Python 3 (ipykernel)",
   "language": "python",
   "name": "python3"
  },
  "language_info": {
   "codemirror_mode": {
    "name": "ipython",
    "version": 3
   },
   "file_extension": ".py",
   "mimetype": "text/x-python",
   "name": "python",
   "nbconvert_exporter": "python",
   "pygments_lexer": "ipython3",
   "version": "3.7.9"
  }
 },
 "nbformat": 4,
 "nbformat_minor": 1
}
