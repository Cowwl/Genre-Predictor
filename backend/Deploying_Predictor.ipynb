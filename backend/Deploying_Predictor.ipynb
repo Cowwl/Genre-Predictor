{
 "cells": [
  {
   "cell_type": "code",
   "execution_count": null,
   "metadata": {
    "id": "PmVQNcQmxvjC"
   },
   "outputs": [
    {
     "name": "stderr",
     "output_type": "stream",
     "text": [
      "D:\\Leak-Detection\\Genre-Predictor\\backend\\.virtenv\\lib\\site-packages\\torchaudio\\extension\\extension.py:13: UserWarning: torchaudio C++ extension is not available.\n",
      "  warnings.warn('torchaudio C++ extension is not available.')\n",
      "D:\\Leak-Detection\\Genre-Predictor\\backend\\.virtenv\\lib\\site-packages\\torchaudio\\backend\\utils.py:47: UserWarning: \"torchaudio.USE_SOUNDFILE_LEGACY_INTERFACE\" flag is deprecated and will be removed in 0.9.0. Please remove the use of flag.\n",
      "  '\"torchaudio.USE_SOUNDFILE_LEGACY_INTERFACE\" flag is deprecated and will be removed in 0.9.0. '\n"
     ]
    }
   ],
   "source": [
    "from fastai.vision.all import *\n",
    "from fastaudio.core.all import *\n",
    "from fastaudio.augment.all import *\n",
    "import uvicorn\n",
    "from fastaudio.ci import skip_if_ci\n",
    "import timm\n",
    "from torch.distributions.beta import Beta\n",
    "from fastapi import FastAPI, File, UploadFile\n",
    "from pydantic import BaseModel\n",
    "from loguru import logger\n",
    "import nest_asyncio\n",
    "from fastapi.middleware.cors import CORSMiddleware\n",
    "import json"
   ]
  },
  {
   "cell_type": "code",
   "execution_count": null,
   "metadata": {},
   "outputs": [],
   "source": [
    "import pathlib\n",
    "temp = pathlib.PosixPath\n",
    "pathlib.PosixPath = pathlib.WindowsPath"
   ]
  },
  {
   "cell_type": "code",
   "execution_count": null,
   "metadata": {
    "id": "wuI95GINy9Xq"
   },
   "outputs": [],
   "source": [
    "class AudioNormalize(Transform):\n",
    "    \"Normalizes a single `AudioTensor`.\"\n",
    "    def encodes(self, x:AudioTensor): return (x-x.mean()) / x.std()"
   ]
  },
  {
   "cell_type": "code",
   "execution_count": null,
   "metadata": {
    "id": "-CzN4gYqzKJ2"
   },
   "outputs": [],
   "source": [
    "def get_x(r): \n",
    "  return path/'genres_original'/r['filename'].split('.')[0]/str(r['filename'])"
   ]
  },
  {
   "cell_type": "code",
   "execution_count": null,
   "metadata": {
    "id": "kU8JTuHLD2tv"
   },
   "outputs": [],
   "source": [
    "app = FastAPI()\n",
    "origins = [\n",
    "    \"http://localhost.tiangolo.com\",\n",
    "    \"https://localhost.tiangolo.com\",\n",
    "    \"http://localhost\",\n",
    "    \"http://localhost:3000\",\n",
    "    \"https://genrify-85adbhpec-cowwl.vercel.app/\"\n",
    "]\n",
    "\n",
    "app.add_middleware(\n",
    "    CORSMiddleware,\n",
    "    allow_origins=origins,\n",
    "    allow_credentials=True,\n",
    "    allow_methods=[\"*\"],\n",
    "    allow_headers=[\"*\"],\n",
    ")\n",
    "\n",
    "@app.on_event(\"startup\")\n",
    "def load_model():\n",
    "    global model\n",
    "    model = load_learner(Path('D:/Academics/ML Stuff/Genre Predictor/export_r18.pkl'))\n",
    "    return {'message': 'Loaded!'}\n",
    "@app.get('/')\n",
    "def index():\n",
    "    return {'message': 'This is the homepage of the API '}\n",
    "@app.post('/predict')\n",
    "async def get_music_category(file: Union[UploadFile, None] = None):\n",
    "#     if not file:\n",
    "#         return {\"message\": \"No upload file sent\"}\n",
    "#     else:\n",
    "#         return {\"filename\": file.filename}\n",
    "    contents = await file.read()\n",
    "    file = open('demo.wav', 'wb')\n",
    "    file.write(contents)\n",
    "    file.close()\n",
    "    ResultsArr = []\n",
    "    audio = AudioTensor.create(Path('demo.wav'))\n",
    "    pred,pred_idx,probs = model.predict(audio)\n",
    "    sorted, indices = torch.sort(probs, descending = True)\n",
    "    for i in range(0,5):\n",
    "        Prediction = model.dls.vocab[indices[i]]\n",
    "        prob = float(sorted[i])\n",
    "        results = {'Prediction' : Prediction,'Probability' : prob}\n",
    "        ResultsArr.append(results)\n",
    "    return ResultsArr\n",
    "\n",
    "if __name__ == \"__main__\":\n",
    "    nest_asyncio.apply()\n",
    "    uvicorn.run(\"main:app\", port=8000)"
   ]
  }
 ],
 "metadata": {
  "colab": {
   "provenance": []
  },
  "kernelspec": {
   "display_name": "Python 3 (ipykernel)",
   "language": "python",
   "name": "python3"
  },
  "language_info": {
   "codemirror_mode": {
    "name": "ipython",
    "version": 3
   },
   "file_extension": ".py",
   "mimetype": "text/x-python",
   "name": "python",
   "nbconvert_exporter": "python",
   "pygments_lexer": "ipython3",
   "version": "3.7.9"
  },
  "vscode": {
   "interpreter": {
    "hash": "369f2c481f4da34e4445cda3fffd2e751bd1c4d706f27375911949ba6bb62e1c"
   }
  }
 },
 "nbformat": 4,
 "nbformat_minor": 1
}
